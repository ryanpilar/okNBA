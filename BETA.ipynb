{
 "cells": [
  {
   "cell_type": "code",
   "execution_count": 3,
   "metadata": {},
   "outputs": [
    {
     "ename": "ModuleNotFoundError",
     "evalue": "No module named 'espn_scrapper'",
     "output_type": "error",
     "traceback": [
      "\u001b[1;31m---------------------------------------------------------------------------\u001b[0m",
      "\u001b[1;31mModuleNotFoundError\u001b[0m                       Traceback (most recent call last)",
      "Cell \u001b[1;32mIn [3], line 1\u001b[0m\n\u001b[1;32m----> 1\u001b[0m \u001b[38;5;28;01mfrom\u001b[39;00m \u001b[38;5;21;01mespn_scrapper_2\u001b[39;00m \u001b[38;5;28;01mimport\u001b[39;00m \u001b[38;5;241m*\u001b[39m\n\u001b[0;32m      3\u001b[0m \u001b[38;5;124;03m'''\u001b[39;00m\n\u001b[0;32m      4\u001b[0m \u001b[38;5;124;03mThis cell needs to run to allow for the loading of data. Will do the following:\u001b[39;00m\n\u001b[0;32m      5\u001b[0m \n\u001b[1;32m   (...)\u001b[0m\n\u001b[0;32m     12\u001b[0m \n\u001b[0;32m     13\u001b[0m \u001b[38;5;124;03m'''\u001b[39;00m\n\u001b[0;32m     15\u001b[0m a \u001b[38;5;241m=\u001b[39m Data_Center()\n",
      "File \u001b[1;32mc:\\Users\\ryan_\\Desktop\\code\\code-projects\\oknba\\espn_scrapper_2.py:6\u001b[0m\n\u001b[0;32m      1\u001b[0m \u001b[39m#!/usr/bin/env python\u001b[39;00m\n\u001b[0;32m      2\u001b[0m \u001b[39m# coding: utf-8\u001b[39;00m\n\u001b[0;32m      3\u001b[0m \n\u001b[0;32m      4\u001b[0m \u001b[39m# In[ ]:\u001b[39;00m\n\u001b[1;32m----> 6\u001b[0m \u001b[39mimport\u001b[39;00m \u001b[39mespn_scrapper\u001b[39;00m\n\u001b[0;32m      8\u001b[0m \u001b[39mimport\u001b[39;00m \u001b[39mpytz\u001b[39;00m\n\u001b[0;32m      9\u001b[0m \u001b[39mimport\u001b[39;00m \u001b[39mespn_api\u001b[39;00m\n",
      "\u001b[1;31mModuleNotFoundError\u001b[0m: No module named 'espn_scrapper'"
     ]
    }
   ],
   "source": [
    "from espn_scrapper_2 import *\n",
    "\n",
    "'''\n",
    "This cell needs to run to allow for the loading of data. Will do the following:\n",
    "\n",
    "1. create a data scructure that will hold all active players and their corresponding 2020 stats\n",
    "2. rank order every stat for every player. There are 9 stats to consider\n",
    "3. sign into your espn_fantasy league\n",
    "4. get roster data for every fantasy team\n",
    "5. rank order fantasy teams according to the metric\n",
    "5. make simple comparisons of players and teams\n",
    "\n",
    "'''\n",
    "\n",
    "a = Data_Center()                          # main object that contains most of the program's methods\n",
    "# a.updateFreeAgents(toPrint = False)        # considers players that may have not played in 2019-20        \n",
    "# a.updateTeamData()                         # use espn_api to fetch Fantasy Laugue match ups, and team rosters\n",
    "# a.correctTeam()                            # update player database to reflect 2021 teams\n",
    "\n",
    "# #a.createSchedule()                         # fetch team game schedules, and link to player objects\n",
    "# a.correctPositions()                       # uses espn_api to grab all the player positions, than normalize \n",
    "# a.normalizeTurnovers()\n",
    "\n",
    "# a.createCalander()   "
   ]
  },
  {
   "cell_type": "code",
   "execution_count": null,
   "metadata": {},
   "outputs": [],
   "source": [
    "# fetch current free agents\n",
    "a.getFreeAgents()"
   ]
  },
  {
   "cell_type": "code",
   "execution_count": null,
   "metadata": {},
   "outputs": [],
   "source": [
    "# print off every teams roster, and their players rank\n",
    "b = a.getTeamData()\n",
    "d = a.getAllPlayerData().getDict()\n",
    "\n",
    "# this calculates the mean total of the league:\n",
    "total_ranks = []\n",
    "for player in d:\n",
    "    if player.total_rank == None:\n",
    "        pass\n",
    "    else:\n",
    "        total_ranks.append(player.total_rank)\n",
    "    \n",
    "mean = sum(total_ranks) / len(total_ranks)\n",
    "\n",
    "# this iterates over every Fantasy team:\n",
    "for team, v in b.items():\n",
    "    print(team)\n",
    "    print(v)\n",
    "    roster = v[1]\n",
    "    to_print = []\n",
    "    tally = []\n",
    "    # this iterates over every player found in each Fantasy team\n",
    "    for player in roster:\n",
    "        try:\n",
    "            tally.append(player.total_rank)\n",
    "          \n",
    "        except:\n",
    "            pass\n",
    "    \n",
    "    try:\n",
    "        avg_rank = sum(tally) / len(tally)\n",
    "        print(team, round(avg_rank, 2))\n",
    "        \n",
    "    except:\n",
    "        av_rank = 'Average Ranke NOT tallied yet'\n",
    "        print(av_rank)\n",
    "    toPrint = True\n",
    "    if (toPrint):\n",
    "        for player in roster:\n",
    "            try:\n",
    "                print('\\t', player.player, '-', player.total_rank, '-', player.position)\n",
    "            except:\n",
    "                pass"
   ]
  },
  {
   "cell_type": "code",
   "execution_count": null,
   "metadata": {},
   "outputs": [],
   "source": []
  }
 ],
 "metadata": {
  "kernelspec": {
   "display_name": "Python 3.10.7 64-bit (microsoft store)",
   "language": "python",
   "name": "python3"
  },
  "language_info": {
   "codemirror_mode": {
    "name": "ipython",
    "version": 3
   },
   "file_extension": ".py",
   "mimetype": "text/x-python",
   "name": "python",
   "nbconvert_exporter": "python",
   "pygments_lexer": "ipython3",
   "version": "3.10.7"
  },
  "vscode": {
   "interpreter": {
    "hash": "fefb619c3006ee58a4fc6d6884222d08fb58759717d20e07fbfdd90ae5e178db"
   }
  }
 },
 "nbformat": 4,
 "nbformat_minor": 4
}
